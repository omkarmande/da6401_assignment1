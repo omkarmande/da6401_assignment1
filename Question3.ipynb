{
  "nbformat": 4,
  "nbformat_minor": 0,
  "metadata": {
    "colab": {
      "provenance": [],
      "authorship_tag": "ABX9TyMX2I1VbXuJ1LNjcJgcNGrC"
    },
    "kernelspec": {
      "name": "python3",
      "display_name": "Python 3"
    },
    "language_info": {
      "name": "python"
    }
  },
  "cells": [
    {
      "cell_type": "code",
      "execution_count": 1,
      "metadata": {
        "id": "lXmvRiTqCuwf"
      },
      "outputs": [],
      "source": [
        "import numpy as np\n",
        "import matplotlib.pyplot as plt\n",
        "from sklearn.datasets import fetch_openml\n",
        "from sklearn.preprocessing import OneHotEncoder\n",
        "from sklearn.model_selection import train_test_split\n",
        "from keras.datasets import fashion_mnist\n",
        "import wandb"
      ]
    },
    {
      "cell_type": "code",
      "source": [
        "!wandb login"
      ],
      "metadata": {
        "colab": {
          "base_uri": "https://localhost:8080/"
        },
        "id": "QzDiNnm3PzEi",
        "outputId": "88dc2617-f871-4f5b-97b6-3fa308f6d5fd"
      },
      "execution_count": 2,
      "outputs": [
        {
          "output_type": "stream",
          "name": "stdout",
          "text": [
            "\u001b[34m\u001b[1mwandb\u001b[0m: Logging into wandb.ai. (Learn how to deploy a W&B server locally: https://wandb.me/wandb-server)\n",
            "\u001b[34m\u001b[1mwandb\u001b[0m: You can find your API key in your browser here: https://wandb.ai/authorize\n",
            "\u001b[34m\u001b[1mwandb\u001b[0m: Paste an API key from your profile and hit enter, or press ctrl+c to quit: \n",
            "\u001b[34m\u001b[1mwandb\u001b[0m: No netrc file found, creating one.\n",
            "\u001b[34m\u001b[1mwandb\u001b[0m: Appending key for api.wandb.ai to your netrc file: /root/.netrc\n",
            "\u001b[34m\u001b[1mwandb\u001b[0m: Currently logged in as: \u001b[33momkarmande\u001b[0m (\u001b[33momkarmande-iit-madras\u001b[0m) to \u001b[32mhttps://api.wandb.ai\u001b[0m. Use \u001b[1m`wandb login --relogin`\u001b[0m to force relogin\n"
          ]
        }
      ]
    },
    {
      "cell_type": "code",
      "source": [
        "(X_train, y_train), (X_test, y_test) = fashion_mnist.load_data()\n",
        "X_train = X_train.reshape(X_train.shape[0], -1) / 255.0\n",
        "X_test = X_test.reshape(X_test.shape[0], -1) / 255.0\n",
        "\n",
        "num_classes = 10\n",
        "y_train_onehot = np.eye(num_classes)[y_train]\n",
        "y_test_onehot = np.eye(num_classes)[y_test]\n",
        "\n",
        "split_index = int(0.9 * X_train.shape[0])\n",
        "X, X_val = X_train[:split_index], X_train[split_index:]\n",
        "y, y_val = y_train_onehot[:split_index], y_train_onehot[split_index:]"
      ],
      "metadata": {
        "colab": {
          "base_uri": "https://localhost:8080/"
        },
        "id": "QZKAZe4Fy70k",
        "outputId": "4a0d4d76-dd4d-4971-a60f-77922e123419"
      },
      "execution_count": 3,
      "outputs": [
        {
          "output_type": "stream",
          "name": "stdout",
          "text": [
            "Downloading data from https://storage.googleapis.com/tensorflow/tf-keras-datasets/train-labels-idx1-ubyte.gz\n",
            "\u001b[1m29515/29515\u001b[0m \u001b[32m━━━━━━━━━━━━━━━━━━━━\u001b[0m\u001b[37m\u001b[0m \u001b[1m0s\u001b[0m 0us/step\n",
            "Downloading data from https://storage.googleapis.com/tensorflow/tf-keras-datasets/train-images-idx3-ubyte.gz\n",
            "\u001b[1m26421880/26421880\u001b[0m \u001b[32m━━━━━━━━━━━━━━━━━━━━\u001b[0m\u001b[37m\u001b[0m \u001b[1m0s\u001b[0m 0us/step\n",
            "Downloading data from https://storage.googleapis.com/tensorflow/tf-keras-datasets/t10k-labels-idx1-ubyte.gz\n",
            "\u001b[1m5148/5148\u001b[0m \u001b[32m━━━━━━━━━━━━━━━━━━━━\u001b[0m\u001b[37m\u001b[0m \u001b[1m0s\u001b[0m 0us/step\n",
            "Downloading data from https://storage.googleapis.com/tensorflow/tf-keras-datasets/t10k-images-idx3-ubyte.gz\n",
            "\u001b[1m4422102/4422102\u001b[0m \u001b[32m━━━━━━━━━━━━━━━━━━━━\u001b[0m\u001b[37m\u001b[0m \u001b[1m0s\u001b[0m 0us/step\n"
          ]
        }
      ]
    },
    {
      "cell_type": "code",
      "source": [
        "def sigmoid(x):\n",
        "    x = np.clip(x, -500, 500)\n",
        "    return 1 / (1 + np.exp(-x))\n",
        "\n",
        "def sigmoid_derivative(x):\n",
        "    return sigmoid(x) * (1 - sigmoid(x))\n",
        "\n",
        "def tanh(x):\n",
        "    x = np.clip(x, -500, 500)\n",
        "    return np.tanh(x)\n",
        "\n",
        "def tanh_derivative(x):\n",
        "    return 1 - np.tanh(x) ** 2\n",
        "\n",
        "def identity(x):\n",
        "    return x\n",
        "\n",
        "def identity_derivative(x):\n",
        "    return np.ones_like(x)\n",
        "\n",
        "def relu(x):\n",
        "    return np.maximum(0, x)\n",
        "\n",
        "def relu_derivative(x):\n",
        "    return (x > 0).astype(float)\n",
        "\n",
        "def softmax(x):\n",
        "    x = x - np.max(x, axis=1, keepdims=True)\n",
        "    exp_x = np.exp(x)\n",
        "    return exp_x / np.sum(exp_x, axis=1, keepdims=True)\n"
      ],
      "metadata": {
        "id": "NlvPhIpry9dR"
      },
      "execution_count": 4,
      "outputs": []
    },
    {
      "cell_type": "code",
      "source": [
        "def cross_entropy_loss(y_true, y_pred):\n",
        "    return -np.sum(y_true * np.log(y_pred + 1e-9)) / y_true.shape[0]\n",
        "\n",
        "def squared_error_loss(y_true, y_pred):\n",
        "    return np.mean(np.sum((y_true - y_pred) ** 2, axis=1))\n",
        "\n",
        "def accuracy(y_true, y_pred):\n",
        "    true_labels = np.argmax(y_true, axis=1)\n",
        "    pred_labels = np.argmax(y_pred, axis=1)\n",
        "    return np.mean(true_labels == pred_labels)"
      ],
      "metadata": {
        "id": "F2QCu-sYJoZw"
      },
      "execution_count": 5,
      "outputs": []
    },
    {
      "cell_type": "code",
      "source": [
        "def initialize_weights(shape, method=\"xavier\"):\n",
        "    if method == \"random\":\n",
        "        return np.random.randn(*shape) * 0.01\n",
        "    elif method == \"xavier\":\n",
        "        return np.random.randn(*shape) * np.sqrt(2.0 / shape[0])\n",
        "    else:\n",
        "        raise ValueError(\"Unknown initialization method: Choose 'random' or 'xavier'\")\n",
        "\n",
        "def clip_gradients(grads, clip_value=5.0):\n",
        "    return [np.clip(g, -clip_value, clip_value) for g in grads]"
      ],
      "metadata": {
        "id": "XU9_yPw6J0kn"
      },
      "execution_count": 6,
      "outputs": []
    },
    {
      "cell_type": "code",
      "source": [
        "class Model:\n",
        "  def get_activation_functions(self, activation_type):\n",
        "        activations = {\n",
        "            \"sigmoid\": (sigmoid, sigmoid_derivative),\n",
        "            \"tanh\": (tanh, tanh_derivative),\n",
        "            \"ReLu\": (relu, relu_derivative),\n",
        "            \"identity\": (identity, identity_derivative)\n",
        "        }\n",
        "        return activations.get(activation_type, (sigmoid, sigmoid_derivative))\n",
        "\n",
        "  def __init__(self, il_neuron, hl_neuron, hl_count, ol_neuron, opt=\"adam\", lr=0.1, batch=4, init=\"xavier\", act=\"tanh\", loss=\"cross_entropy\", decay=0):\n",
        "    self.layers = [il_neuron] + [hl_neuron]*hl_count + [ol_neuron]\n",
        "    self.weights = []\n",
        "    self.biases = []\n",
        "    self.opt = opt\n",
        "    self.lr = lr\n",
        "    self.batch = batch\n",
        "    self.init = init\n",
        "    self.act = act\n",
        "    self.loss = loss\n",
        "    self.decay = decay\n",
        "    self.momentum = 0.9\n",
        "    self.beta1 = 0.9\n",
        "    self.beta2 = 0.999\n",
        "    self.epsilon = 1e-6\n",
        "    self.t = 0\n",
        "\n",
        "    self.velocities = []\n",
        "    self.velocities_b = []\n",
        "    self.squared_grads = []\n",
        "    self.squared_grads_b = []\n",
        "    self.m_t_w = []\n",
        "    self.m_t_b = []\n",
        "    self.v_t_w = []\n",
        "    self.v_t_b = []\n",
        "\n",
        "    self.activation_func, self.activation_derivative = self.get_activation_functions(act)\n",
        "    self.loss_func = cross_entropy_loss if loss == \"cross_entropy\" else squared_error_loss\n",
        "\n",
        "    #initializing and giving shape\n",
        "    for i in range(len(self.layers) - 1):\n",
        "        weight_matrix = initialize_weights((self.layers[i], self.layers[i + 1]), method=self.init)\n",
        "        bias_vector = np.zeros((1, self.layers[i + 1]))\n",
        "        self.weights.append(weight_matrix)\n",
        "        self.biases.append(bias_vector)\n",
        "        self.velocities.append(np.zeros_like(weight_matrix))\n",
        "        self.velocities_b.append(np.zeros_like(bias_vector))\n",
        "        self.squared_grads.append(np.zeros_like(weight_matrix))\n",
        "        self.squared_grads_b.append(np.zeros_like(bias_vector))\n",
        "        self.m_t_w.append(np.zeros_like(weight_matrix))\n",
        "        self.m_t_b.append(np.zeros_like(bias_vector))\n",
        "        self.v_t_w.append(np.zeros_like(weight_matrix))\n",
        "        self.v_t_b.append(np.zeros_like(bias_vector))\n",
        "\n",
        "  def feedForward(self, X):\n",
        "    activations = [X]\n",
        "    for i in range(len(self.weights) - 1):\n",
        "      z = np.dot(activations[-1], self.weights[i]) + self.biases[i]\n",
        "      #print(z.shape)\n",
        "      a = self.activation_func(z)\n",
        "      activations.append(a)\n",
        "\n",
        "    z_output = np.dot(activations[-1], self.weights[-1]) + self.biases[-1]\n",
        "    a_output = softmax(z_output)\n",
        "    activations.append(a_output)\n",
        "\n",
        "    return activations\n",
        "\n",
        "  def backProp(self, X_batch, y_batch, activations):\n",
        "    batch_size = X_batch.shape[0]\n",
        "    grads_w = [np.zeros_like(w) for w in self.weights]\n",
        "    grads_b = [np.zeros_like(b) for b in self.biases]\n",
        "\n",
        "    if self.loss == \"cross_entropy\":\n",
        "        dz = activations[-1] - y_batch\n",
        "    else:\n",
        "        dz = (activations[-1] - y_batch) * 2 / batch_size\n",
        "    grads_w[-1] = np.dot(activations[-2].T, dz) / batch_size + (self.decay * self.weights[-1])\n",
        "    grads_b[-1] = np.sum(dz, axis=0, keepdims=True) / batch_size\n",
        "\n",
        "    for i in range(len(self.weights) - 2, -1, -1):\n",
        "        dz = np.dot(dz, self.weights[i + 1].T) * self.activation_derivative(activations[i + 1])\n",
        "        grads_w[i] = np.dot(activations[i].T, dz) / batch_size + (self.decay * self.weights[i])\n",
        "        grads_b[i] = np.sum(dz, axis=0, keepdims=True) / batch_size\n",
        "\n",
        "    self.update_weights(grads_w, grads_b)\n",
        "\n",
        "  def update_weights(self, grads_w, grads_b):\n",
        "    grads_w = clip_gradients(grads_w)\n",
        "    grads_b = clip_gradients(grads_b)\n",
        "\n",
        "    if self.opt == \"sgd\":\n",
        "        for i in range(len(self.weights)):\n",
        "            self.weights[i] -= self.lr * (grads_w[i] + self.decay * self.weights[i])\n",
        "            self.biases[i] -= self.lr * grads_b[i]\n",
        "\n",
        "    elif self.opt == \"momentum\":\n",
        "        for i in range(len(self.weights)):\n",
        "            self.velocities[i] = self.momentum * self.velocities[i] - self.lr * (grads_w[i] + self.decay * self.weights[i])\n",
        "            self.weights[i] += self.velocities[i]\n",
        "\n",
        "            self.velocities_b[i] = self.momentum * self.velocities_b[i] - self.lr * grads_b[i]\n",
        "            self.biases[i] += self.velocities_b[i]\n",
        "\n",
        "    elif self.opt == \"nesterov\":\n",
        "        for i in range(len(self.weights)):\n",
        "            lookahead_w = self.weights[i] - self.momentum * self.velocities[i]\n",
        "            lookahead_b = self.biases[i] - self.momentum * self.velocities_b[i]\n",
        "            grad_w_lookahead = grads_w[i]\n",
        "            grad_b_lookahead = grads_b[i]\n",
        "            self.velocities[i] = self.momentum * self.velocities[i] - self.lr * (grad_w_lookahead + self.decay * lookahead_w)\n",
        "            self.weights[i] += self.velocities[i]\n",
        "            self.velocities_b[i] = self.momentum * self.velocities_b[i] - self.lr * grad_b_lookahead\n",
        "            self.biases[i] += self.velocities_b[i]\n",
        "\n",
        "    elif self.opt == \"rmsprop\":\n",
        "        for i in range(len(self.weights)):\n",
        "            self.squared_grads[i] = self.beta2 * self.squared_grads[i] + (1 - self.beta2) * grads_w[i]**2\n",
        "            self.weights[i] -= self.lr * (grads_w[i] + self.decay * self.weights[i]) / (np.sqrt(self.squared_grads[i]) + self.epsilon)\n",
        "            self.squared_grads_b[i] = self.beta2 * self.squared_grads_b[i] + (1 - self.beta2) * grads_b[i]**2\n",
        "            self.biases[i] -= self.lr * grads_b[i] / (np.sqrt(self.squared_grads_b[i]) + self.epsilon)\n",
        "\n",
        "    elif self.opt == \"adam\":\n",
        "        self.t += 1\n",
        "        for i in range(len(self.weights)):\n",
        "            self.m_t_w[i] = self.beta1 * self.m_t_w[i] + (1 - self.beta1) * grads_w[i]\n",
        "            self.v_t_w[i] = self.beta2 * self.v_t_w[i] + (1 - self.beta2) * (grads_w[i]**2)\n",
        "            self.m_t_b[i] = self.beta1 * self.m_t_b[i] + (1 - self.beta1) * grads_b[i]\n",
        "            self.v_t_b[i] = self.beta2 * self.v_t_b[i] + (1 - self.beta2) * (grads_b[i]**2)\n",
        "            m_hat_w = self.m_t_w[i] / (1 - self.beta1**self.t)\n",
        "            v_hat_w = self.v_t_w[i] / (1 - self.beta2**self.t)\n",
        "            m_hat_b = self.m_t_b[i] / (1 - self.beta1**self.t)\n",
        "            v_hat_b = self.v_t_b[i] / (1 - self.beta2**self.t)\n",
        "            self.weights[i] -= self.lr * (m_hat_w / (np.sqrt(v_hat_w) + self.epsilon) + self.decay * self.weights[i])\n",
        "            self.biases[i] -= self.lr * (m_hat_b / (np.sqrt(v_hat_b) + self.epsilon))\n",
        "\n",
        "  def train(self, epochs=10):\n",
        "    for epoch in range(epochs):\n",
        "        for i in range(0, X.shape[0], self.batch):\n",
        "            X_batch = X[i:i + self.batch]\n",
        "            y_batch = y[i:i + self.batch]\n",
        "            activations = self.feedForward(X_batch)\n",
        "            self.backProp(X_batch, y_batch, activations)\n",
        "\n",
        "        y_train_pred = self.feedForward(X)[-1]\n",
        "        train_loss = self.loss_func(y, y_train_pred)\n",
        "        train_accuracy = np.mean(np.argmax(y_train_pred, axis=1) == np.argmax(y, axis=1))\n",
        "\n",
        "        y_val_pred = self.feedForward(X_val)[-1]\n",
        "        val_loss = self.loss_func(y_val, y_val_pred)\n",
        "        val_accuracy = np.mean(np.argmax(y_val_pred, axis=1) == np.argmax(y_val, axis=1))\n",
        "\n",
        "        wandb.log({\"Epoch\": epoch+1, \"Train Loss\": train_loss, \"Train Accuracy\": train_accuracy*100,\n",
        "                    \"Validation Loss\": val_loss, \"Validation Accuracy\": val_accuracy*100})\n",
        "\n",
        "        print(f\"Epoch {epoch+1}: Train Loss={train_loss:.4f}, Train Acc={train_accuracy*100:.4f}, Val Loss={val_loss:.4f}, Val Acc={val_accuracy*100:.4f}\")\n",
        "\n"
      ],
      "metadata": {
        "id": "L3yBUufjDqYn"
      },
      "execution_count": 13,
      "outputs": []
    },
    {
      "cell_type": "code",
      "source": [
        "sweep_configuration = {\n",
        "    'method': \"bayes\",\n",
        "    'metric': {'name': 'Validation Accuracy', 'goal': 'maximize'},\n",
        "    'parameters': {\n",
        "        'epochs': {'values': [5, 10]},\n",
        "        'num_hidden_layers': {'values': [3, 4, 5]},\n",
        "        'hidden_layer_size': {'values': [32, 64, 128]},\n",
        "        'learning_rate': {'values': [1e-3, 1e-4]},\n",
        "        'weight_decay': {'values': [0, 0.0005, 0.5]},\n",
        "        'optimizer_name': {'values': ['sgd', 'momentum', 'nesterov', 'rmsprop', 'adam']},\n",
        "        'batch_size': {'values': [16, 32, 64]},\n",
        "        'init_type': {'values': ['random', 'xavier']},\n",
        "        'activation_type': {'values': ['sigmoid', 'tanh', 'ReLU']},\n",
        "        'loss_type': {'values': ['cross_entropy']}\n",
        "    }\n",
        "}\n",
        "\n",
        "sweep_id = wandb.sweep(sweep_configuration, project=\"assignment01-temp\")"
      ],
      "metadata": {
        "colab": {
          "base_uri": "https://localhost:8080/"
        },
        "id": "yaZBsC9A8gXI",
        "outputId": "91f7c113-98ee-490f-eed4-01069e30d8d8"
      },
      "execution_count": 14,
      "outputs": [
        {
          "output_type": "stream",
          "name": "stdout",
          "text": [
            "Create sweep with ID: of6uaseh\n",
            "Sweep URL: https://wandb.ai/omkarmande-iit-madras/assignment01-temp/sweeps/of6uaseh\n"
          ]
        }
      ]
    },
    {
      "cell_type": "code",
      "source": [
        "def train_sweep():\n",
        "    wandb.init(project=\"assignment01-temp\",config=sweep_configuration)\n",
        "    run_name = f\"hl_{wandb.config.num_hidden_layers}_bs_{wandb.config.batch_size}_{wandb.config.activation_type}_{wandb.config.optimizer_name}_lr_{wandb.config.learning_rate}\"\n",
        "    wandb.run.name = run_name\n",
        "\n",
        "    config = wandb.config\n",
        "\n",
        "    model = Model(\n",
        "        il_neuron=784, hl_neuron=config.hidden_layer_size, hl_count=config.num_hidden_layers, ol_neuron=10,\n",
        "        opt=config.optimizer_name, lr=config.learning_rate, batch=config.batch_size,\n",
        "        init=config.init_type, act=config.activation_type, loss=config.loss_type, decay=config.weight_decay\n",
        "    )\n",
        "\n",
        "    model.train(config.epochs)\n",
        "\n",
        "# Run the sweep\n",
        "wandb.agent(sweep_id, train_sweep, count=100)"
      ],
      "metadata": {
        "colab": {
          "base_uri": "https://localhost:8080/",
          "height": 1000
        },
        "id": "4L_EtCKx8he3",
        "outputId": "a2a13a40-41ee-44d6-eed0-56e2889b9299"
      },
      "execution_count": 15,
      "outputs": [
        {
          "output_type": "stream",
          "name": "stderr",
          "text": [
            "\u001b[34m\u001b[1mwandb\u001b[0m: Agent Starting Run: oqsxzkkp with config:\n",
            "\u001b[34m\u001b[1mwandb\u001b[0m: \tactivation_type: ReLU\n",
            "\u001b[34m\u001b[1mwandb\u001b[0m: \tbatch_size: 16\n",
            "\u001b[34m\u001b[1mwandb\u001b[0m: \tepochs: 5\n",
            "\u001b[34m\u001b[1mwandb\u001b[0m: \thidden_layer_size: 128\n",
            "\u001b[34m\u001b[1mwandb\u001b[0m: \tinit_type: random\n",
            "\u001b[34m\u001b[1mwandb\u001b[0m: \tlearning_rate: 0.0001\n",
            "\u001b[34m\u001b[1mwandb\u001b[0m: \tloss_type: cross_entropy\n",
            "\u001b[34m\u001b[1mwandb\u001b[0m: \tnum_hidden_layers: 4\n",
            "\u001b[34m\u001b[1mwandb\u001b[0m: \toptimizer_name: sgd\n",
            "\u001b[34m\u001b[1mwandb\u001b[0m: \tweight_decay: 0.5\n"
          ]
        },
        {
          "output_type": "display_data",
          "data": {
            "text/plain": [
              "<IPython.core.display.HTML object>"
            ],
            "text/html": [
              "Ignoring project 'assignment01-temp' when running a sweep."
            ]
          },
          "metadata": {}
        },
        {
          "output_type": "display_data",
          "data": {
            "text/plain": [
              "<IPython.core.display.HTML object>"
            ],
            "text/html": [
              "Tracking run with wandb version 0.19.8"
            ]
          },
          "metadata": {}
        },
        {
          "output_type": "display_data",
          "data": {
            "text/plain": [
              "<IPython.core.display.HTML object>"
            ],
            "text/html": [
              "Run data is saved locally in <code>/content/wandb/run-20250317_161531-oqsxzkkp</code>"
            ]
          },
          "metadata": {}
        },
        {
          "output_type": "display_data",
          "data": {
            "text/plain": [
              "<IPython.core.display.HTML object>"
            ],
            "text/html": [
              "Syncing run <strong><a href='https://wandb.ai/omkarmande-iit-madras/assignment01-temp/runs/oqsxzkkp' target=\"_blank\">dainty-sweep-1</a></strong> to <a href='https://wandb.ai/omkarmande-iit-madras/assignment01-temp' target=\"_blank\">Weights & Biases</a> (<a href='https://wandb.me/developer-guide' target=\"_blank\">docs</a>)<br>Sweep page: <a href='https://wandb.ai/omkarmande-iit-madras/assignment01-temp/sweeps/of6uaseh' target=\"_blank\">https://wandb.ai/omkarmande-iit-madras/assignment01-temp/sweeps/of6uaseh</a>"
            ]
          },
          "metadata": {}
        },
        {
          "output_type": "display_data",
          "data": {
            "text/plain": [
              "<IPython.core.display.HTML object>"
            ],
            "text/html": [
              " View project at <a href='https://wandb.ai/omkarmande-iit-madras/assignment01-temp' target=\"_blank\">https://wandb.ai/omkarmande-iit-madras/assignment01-temp</a>"
            ]
          },
          "metadata": {}
        },
        {
          "output_type": "display_data",
          "data": {
            "text/plain": [
              "<IPython.core.display.HTML object>"
            ],
            "text/html": [
              " View sweep at <a href='https://wandb.ai/omkarmande-iit-madras/assignment01-temp/sweeps/of6uaseh' target=\"_blank\">https://wandb.ai/omkarmande-iit-madras/assignment01-temp/sweeps/of6uaseh</a>"
            ]
          },
          "metadata": {}
        },
        {
          "output_type": "display_data",
          "data": {
            "text/plain": [
              "<IPython.core.display.HTML object>"
            ],
            "text/html": [
              " View run at <a href='https://wandb.ai/omkarmande-iit-madras/assignment01-temp/runs/oqsxzkkp' target=\"_blank\">https://wandb.ai/omkarmande-iit-madras/assignment01-temp/runs/oqsxzkkp</a>"
            ]
          },
          "metadata": {}
        },
        {
          "output_type": "stream",
          "name": "stdout",
          "text": [
            "Epoch 1: Train Loss=2.3027, Train Acc=9.9444, Val Loss=2.3026, Val Acc=10.5000\n",
            "Epoch 2: Train Loss=2.3026, Train Acc=10.0833, Val Loss=2.3027, Val Acc=9.2500\n",
            "Epoch 3: Train Loss=2.3026, Train Acc=10.0833, Val Loss=2.3027, Val Acc=9.2500\n",
            "Epoch 4: Train Loss=2.3026, Train Acc=10.0833, Val Loss=2.3027, Val Acc=9.2500\n",
            "Epoch 5: Train Loss=2.3026, Train Acc=10.0833, Val Loss=2.3027, Val Acc=9.2500\n"
          ]
        },
        {
          "output_type": "display_data",
          "data": {
            "text/plain": [
              "<IPython.core.display.HTML object>"
            ],
            "text/html": []
          },
          "metadata": {}
        },
        {
          "output_type": "display_data",
          "data": {
            "text/plain": [
              "<IPython.core.display.HTML object>"
            ],
            "text/html": [
              "<br>    <style><br>        .wandb-row {<br>            display: flex;<br>            flex-direction: row;<br>            flex-wrap: wrap;<br>            justify-content: flex-start;<br>            width: 100%;<br>        }<br>        .wandb-col {<br>            display: flex;<br>            flex-direction: column;<br>            flex-basis: 100%;<br>            flex: 1;<br>            padding: 10px;<br>        }<br>    </style><br><div class=\"wandb-row\"><div class=\"wandb-col\"><h3>Run history:</h3><br/><table class=\"wandb\"><tr><td>Epoch</td><td>▁▃▅▆█</td></tr><tr><td>Train Accuracy</td><td>▁████</td></tr><tr><td>Train Loss</td><td>█▁▁▁▁</td></tr><tr><td>Validation Accuracy</td><td>█▁▁▁▁</td></tr><tr><td>Validation Loss</td><td>▁▆▇██</td></tr></table><br/></div><div class=\"wandb-col\"><h3>Run summary:</h3><br/><table class=\"wandb\"><tr><td>Epoch</td><td>5</td></tr><tr><td>Train Accuracy</td><td>10.08333</td></tr><tr><td>Train Loss</td><td>2.30258</td></tr><tr><td>Validation Accuracy</td><td>9.25</td></tr><tr><td>Validation Loss</td><td>2.30269</td></tr></table><br/></div></div>"
            ]
          },
          "metadata": {}
        },
        {
          "output_type": "display_data",
          "data": {
            "text/plain": [
              "<IPython.core.display.HTML object>"
            ],
            "text/html": [
              " View run <strong style=\"color:#cdcd00\">hl_4_bs_16_ReLU_sgd_lr_0.0001</strong> at: <a href='https://wandb.ai/omkarmande-iit-madras/assignment01-temp/runs/oqsxzkkp' target=\"_blank\">https://wandb.ai/omkarmande-iit-madras/assignment01-temp/runs/oqsxzkkp</a><br> View project at: <a href='https://wandb.ai/omkarmande-iit-madras/assignment01-temp' target=\"_blank\">https://wandb.ai/omkarmande-iit-madras/assignment01-temp</a><br>Synced 5 W&B file(s), 0 media file(s), 0 artifact file(s) and 0 other file(s)"
            ]
          },
          "metadata": {}
        },
        {
          "output_type": "display_data",
          "data": {
            "text/plain": [
              "<IPython.core.display.HTML object>"
            ],
            "text/html": [
              "Find logs at: <code>./wandb/run-20250317_161531-oqsxzkkp/logs</code>"
            ]
          },
          "metadata": {}
        },
        {
          "output_type": "stream",
          "name": "stderr",
          "text": [
            "\u001b[34m\u001b[1mwandb\u001b[0m: Agent Starting Run: 9ukdo161 with config:\n",
            "\u001b[34m\u001b[1mwandb\u001b[0m: \tactivation_type: ReLU\n",
            "\u001b[34m\u001b[1mwandb\u001b[0m: \tbatch_size: 32\n",
            "\u001b[34m\u001b[1mwandb\u001b[0m: \tepochs: 5\n",
            "\u001b[34m\u001b[1mwandb\u001b[0m: \thidden_layer_size: 32\n",
            "\u001b[34m\u001b[1mwandb\u001b[0m: \tinit_type: random\n",
            "\u001b[34m\u001b[1mwandb\u001b[0m: \tlearning_rate: 0.0001\n",
            "\u001b[34m\u001b[1mwandb\u001b[0m: \tloss_type: cross_entropy\n",
            "\u001b[34m\u001b[1mwandb\u001b[0m: \tnum_hidden_layers: 5\n",
            "\u001b[34m\u001b[1mwandb\u001b[0m: \toptimizer_name: adam\n",
            "\u001b[34m\u001b[1mwandb\u001b[0m: \tweight_decay: 0.5\n"
          ]
        },
        {
          "output_type": "display_data",
          "data": {
            "text/plain": [
              "<IPython.core.display.HTML object>"
            ],
            "text/html": [
              "Ignoring project 'assignment01-temp' when running a sweep."
            ]
          },
          "metadata": {}
        },
        {
          "output_type": "display_data",
          "data": {
            "text/plain": [
              "<IPython.core.display.HTML object>"
            ],
            "text/html": [
              "Tracking run with wandb version 0.19.8"
            ]
          },
          "metadata": {}
        },
        {
          "output_type": "display_data",
          "data": {
            "text/plain": [
              "<IPython.core.display.HTML object>"
            ],
            "text/html": [
              "Run data is saved locally in <code>/content/wandb/run-20250317_161829-9ukdo161</code>"
            ]
          },
          "metadata": {}
        },
        {
          "output_type": "display_data",
          "data": {
            "text/plain": [
              "<IPython.core.display.HTML object>"
            ],
            "text/html": [
              "Syncing run <strong><a href='https://wandb.ai/omkarmande-iit-madras/assignment01-temp/runs/9ukdo161' target=\"_blank\">noble-sweep-2</a></strong> to <a href='https://wandb.ai/omkarmande-iit-madras/assignment01-temp' target=\"_blank\">Weights & Biases</a> (<a href='https://wandb.me/developer-guide' target=\"_blank\">docs</a>)<br>Sweep page: <a href='https://wandb.ai/omkarmande-iit-madras/assignment01-temp/sweeps/of6uaseh' target=\"_blank\">https://wandb.ai/omkarmande-iit-madras/assignment01-temp/sweeps/of6uaseh</a>"
            ]
          },
          "metadata": {}
        },
        {
          "output_type": "display_data",
          "data": {
            "text/plain": [
              "<IPython.core.display.HTML object>"
            ],
            "text/html": [
              " View project at <a href='https://wandb.ai/omkarmande-iit-madras/assignment01-temp' target=\"_blank\">https://wandb.ai/omkarmande-iit-madras/assignment01-temp</a>"
            ]
          },
          "metadata": {}
        },
        {
          "output_type": "display_data",
          "data": {
            "text/plain": [
              "<IPython.core.display.HTML object>"
            ],
            "text/html": [
              " View sweep at <a href='https://wandb.ai/omkarmande-iit-madras/assignment01-temp/sweeps/of6uaseh' target=\"_blank\">https://wandb.ai/omkarmande-iit-madras/assignment01-temp/sweeps/of6uaseh</a>"
            ]
          },
          "metadata": {}
        },
        {
          "output_type": "display_data",
          "data": {
            "text/plain": [
              "<IPython.core.display.HTML object>"
            ],
            "text/html": [
              " View run at <a href='https://wandb.ai/omkarmande-iit-madras/assignment01-temp/runs/9ukdo161' target=\"_blank\">https://wandb.ai/omkarmande-iit-madras/assignment01-temp/runs/9ukdo161</a>"
            ]
          },
          "metadata": {}
        },
        {
          "output_type": "stream",
          "name": "stdout",
          "text": [
            "Epoch 1: Train Loss=2.3026, Train Acc=9.9963, Val Loss=2.3028, Val Acc=10.0333\n",
            "Epoch 2: Train Loss=2.3026, Train Acc=9.9963, Val Loss=2.3028, Val Acc=10.0333\n",
            "Epoch 3: Train Loss=2.3026, Train Acc=9.9963, Val Loss=2.3028, Val Acc=10.0333\n",
            "Epoch 4: Train Loss=2.3026, Train Acc=9.9963, Val Loss=2.3028, Val Acc=10.0333\n",
            "Epoch 5: Train Loss=2.3026, Train Acc=9.9963, Val Loss=2.3029, Val Acc=10.0333\n"
          ]
        },
        {
          "output_type": "display_data",
          "data": {
            "text/plain": [
              "<IPython.core.display.HTML object>"
            ],
            "text/html": []
          },
          "metadata": {}
        },
        {
          "output_type": "display_data",
          "data": {
            "text/plain": [
              "<IPython.core.display.HTML object>"
            ],
            "text/html": [
              "<br>    <style><br>        .wandb-row {<br>            display: flex;<br>            flex-direction: row;<br>            flex-wrap: wrap;<br>            justify-content: flex-start;<br>            width: 100%;<br>        }<br>        .wandb-col {<br>            display: flex;<br>            flex-direction: column;<br>            flex-basis: 100%;<br>            flex: 1;<br>            padding: 10px;<br>        }<br>    </style><br><div class=\"wandb-row\"><div class=\"wandb-col\"><h3>Run history:</h3><br/><table class=\"wandb\"><tr><td>Epoch</td><td>▁▃▅▆█</td></tr><tr><td>Train Accuracy</td><td>▁▁▁▁▁</td></tr><tr><td>Train Loss</td><td>█▇▅▃▁</td></tr><tr><td>Validation Accuracy</td><td>▁▁▁▁▁</td></tr><tr><td>Validation Loss</td><td>▁▄▅▇█</td></tr></table><br/></div><div class=\"wandb-col\"><h3>Run summary:</h3><br/><table class=\"wandb\"><tr><td>Epoch</td><td>5</td></tr><tr><td>Train Accuracy</td><td>9.9963</td></tr><tr><td>Train Loss</td><td>2.30263</td></tr><tr><td>Validation Accuracy</td><td>10.03333</td></tr><tr><td>Validation Loss</td><td>2.30285</td></tr></table><br/></div></div>"
            ]
          },
          "metadata": {}
        },
        {
          "output_type": "display_data",
          "data": {
            "text/plain": [
              "<IPython.core.display.HTML object>"
            ],
            "text/html": [
              " View run <strong style=\"color:#cdcd00\">hl_5_bs_32_ReLU_adam_lr_0.0001</strong> at: <a href='https://wandb.ai/omkarmande-iit-madras/assignment01-temp/runs/9ukdo161' target=\"_blank\">https://wandb.ai/omkarmande-iit-madras/assignment01-temp/runs/9ukdo161</a><br> View project at: <a href='https://wandb.ai/omkarmande-iit-madras/assignment01-temp' target=\"_blank\">https://wandb.ai/omkarmande-iit-madras/assignment01-temp</a><br>Synced 5 W&B file(s), 0 media file(s), 0 artifact file(s) and 0 other file(s)"
            ]
          },
          "metadata": {}
        },
        {
          "output_type": "display_data",
          "data": {
            "text/plain": [
              "<IPython.core.display.HTML object>"
            ],
            "text/html": [
              "Find logs at: <code>./wandb/run-20250317_161829-9ukdo161/logs</code>"
            ]
          },
          "metadata": {}
        },
        {
          "output_type": "stream",
          "name": "stderr",
          "text": [
            "\u001b[34m\u001b[1mwandb\u001b[0m: Agent Starting Run: fbssaedj with config:\n",
            "\u001b[34m\u001b[1mwandb\u001b[0m: \tactivation_type: tanh\n",
            "\u001b[34m\u001b[1mwandb\u001b[0m: \tbatch_size: 32\n",
            "\u001b[34m\u001b[1mwandb\u001b[0m: \tepochs: 5\n",
            "\u001b[34m\u001b[1mwandb\u001b[0m: \thidden_layer_size: 64\n",
            "\u001b[34m\u001b[1mwandb\u001b[0m: \tinit_type: random\n",
            "\u001b[34m\u001b[1mwandb\u001b[0m: \tlearning_rate: 0.0001\n",
            "\u001b[34m\u001b[1mwandb\u001b[0m: \tloss_type: cross_entropy\n",
            "\u001b[34m\u001b[1mwandb\u001b[0m: \tnum_hidden_layers: 3\n",
            "\u001b[34m\u001b[1mwandb\u001b[0m: \toptimizer_name: sgd\n",
            "\u001b[34m\u001b[1mwandb\u001b[0m: \tweight_decay: 0\n"
          ]
        },
        {
          "output_type": "display_data",
          "data": {
            "text/plain": [
              "<IPython.core.display.HTML object>"
            ],
            "text/html": [
              "Ignoring project 'assignment01-temp' when running a sweep."
            ]
          },
          "metadata": {}
        },
        {
          "output_type": "display_data",
          "data": {
            "text/plain": [
              "<IPython.core.display.HTML object>"
            ],
            "text/html": [
              "Tracking run with wandb version 0.19.8"
            ]
          },
          "metadata": {}
        },
        {
          "output_type": "display_data",
          "data": {
            "text/plain": [
              "<IPython.core.display.HTML object>"
            ],
            "text/html": [
              "Run data is saved locally in <code>/content/wandb/run-20250317_161935-fbssaedj</code>"
            ]
          },
          "metadata": {}
        },
        {
          "output_type": "display_data",
          "data": {
            "text/plain": [
              "<IPython.core.display.HTML object>"
            ],
            "text/html": [
              "Syncing run <strong><a href='https://wandb.ai/omkarmande-iit-madras/assignment01-temp/runs/fbssaedj' target=\"_blank\">fine-sweep-3</a></strong> to <a href='https://wandb.ai/omkarmande-iit-madras/assignment01-temp' target=\"_blank\">Weights & Biases</a> (<a href='https://wandb.me/developer-guide' target=\"_blank\">docs</a>)<br>Sweep page: <a href='https://wandb.ai/omkarmande-iit-madras/assignment01-temp/sweeps/of6uaseh' target=\"_blank\">https://wandb.ai/omkarmande-iit-madras/assignment01-temp/sweeps/of6uaseh</a>"
            ]
          },
          "metadata": {}
        },
        {
          "output_type": "display_data",
          "data": {
            "text/plain": [
              "<IPython.core.display.HTML object>"
            ],
            "text/html": [
              " View project at <a href='https://wandb.ai/omkarmande-iit-madras/assignment01-temp' target=\"_blank\">https://wandb.ai/omkarmande-iit-madras/assignment01-temp</a>"
            ]
          },
          "metadata": {}
        },
        {
          "output_type": "display_data",
          "data": {
            "text/plain": [
              "<IPython.core.display.HTML object>"
            ],
            "text/html": [
              " View sweep at <a href='https://wandb.ai/omkarmande-iit-madras/assignment01-temp/sweeps/of6uaseh' target=\"_blank\">https://wandb.ai/omkarmande-iit-madras/assignment01-temp/sweeps/of6uaseh</a>"
            ]
          },
          "metadata": {}
        },
        {
          "output_type": "display_data",
          "data": {
            "text/plain": [
              "<IPython.core.display.HTML object>"
            ],
            "text/html": [
              " View run at <a href='https://wandb.ai/omkarmande-iit-madras/assignment01-temp/runs/fbssaedj' target=\"_blank\">https://wandb.ai/omkarmande-iit-madras/assignment01-temp/runs/fbssaedj</a>"
            ]
          },
          "metadata": {}
        },
        {
          "output_type": "stream",
          "name": "stdout",
          "text": [
            "Epoch 1: Train Loss=2.3026, Train Acc=12.7130, Val Loss=2.3026, Val Acc=11.5000\n",
            "Epoch 2: Train Loss=2.3026, Train Acc=11.9759, Val Loss=2.3026, Val Acc=10.8167\n",
            "Epoch 3: Train Loss=2.3026, Train Acc=11.0370, Val Loss=2.3026, Val Acc=9.9000\n",
            "Epoch 4: Train Loss=2.3026, Train Acc=10.4722, Val Loss=2.3026, Val Acc=9.4667\n",
            "Epoch 5: Train Loss=2.3026, Train Acc=10.1963, Val Loss=2.3026, Val Acc=9.2833\n"
          ]
        },
        {
          "output_type": "display_data",
          "data": {
            "text/plain": [
              "<IPython.core.display.HTML object>"
            ],
            "text/html": []
          },
          "metadata": {}
        },
        {
          "output_type": "display_data",
          "data": {
            "text/plain": [
              "<IPython.core.display.HTML object>"
            ],
            "text/html": [
              "<br>    <style><br>        .wandb-row {<br>            display: flex;<br>            flex-direction: row;<br>            flex-wrap: wrap;<br>            justify-content: flex-start;<br>            width: 100%;<br>        }<br>        .wandb-col {<br>            display: flex;<br>            flex-direction: column;<br>            flex-basis: 100%;<br>            flex: 1;<br>            padding: 10px;<br>        }<br>    </style><br><div class=\"wandb-row\"><div class=\"wandb-col\"><h3>Run history:</h3><br/><table class=\"wandb\"><tr><td>Epoch</td><td>▁▃▅▆█</td></tr><tr><td>Train Accuracy</td><td>█▆▃▂▁</td></tr><tr><td>Train Loss</td><td>█▆▄▃▁</td></tr><tr><td>Validation Accuracy</td><td>█▆▃▂▁</td></tr><tr><td>Validation Loss</td><td>▁▃▅▆█</td></tr></table><br/></div><div class=\"wandb-col\"><h3>Run summary:</h3><br/><table class=\"wandb\"><tr><td>Epoch</td><td>5</td></tr><tr><td>Train Accuracy</td><td>10.1963</td></tr><tr><td>Train Loss</td><td>2.30258</td></tr><tr><td>Validation Accuracy</td><td>9.28333</td></tr><tr><td>Validation Loss</td><td>2.3026</td></tr></table><br/></div></div>"
            ]
          },
          "metadata": {}
        },
        {
          "output_type": "display_data",
          "data": {
            "text/plain": [
              "<IPython.core.display.HTML object>"
            ],
            "text/html": [
              " View run <strong style=\"color:#cdcd00\">hl_3_bs_32_tanh_sgd_lr_0.0001</strong> at: <a href='https://wandb.ai/omkarmande-iit-madras/assignment01-temp/runs/fbssaedj' target=\"_blank\">https://wandb.ai/omkarmande-iit-madras/assignment01-temp/runs/fbssaedj</a><br> View project at: <a href='https://wandb.ai/omkarmande-iit-madras/assignment01-temp' target=\"_blank\">https://wandb.ai/omkarmande-iit-madras/assignment01-temp</a><br>Synced 5 W&B file(s), 0 media file(s), 0 artifact file(s) and 0 other file(s)"
            ]
          },
          "metadata": {}
        },
        {
          "output_type": "display_data",
          "data": {
            "text/plain": [
              "<IPython.core.display.HTML object>"
            ],
            "text/html": [
              "Find logs at: <code>./wandb/run-20250317_161935-fbssaedj/logs</code>"
            ]
          },
          "metadata": {}
        },
        {
          "output_type": "stream",
          "name": "stderr",
          "text": [
            "\u001b[34m\u001b[1mwandb\u001b[0m: Agent Starting Run: w6jfdywh with config:\n",
            "\u001b[34m\u001b[1mwandb\u001b[0m: \tactivation_type: ReLU\n",
            "\u001b[34m\u001b[1mwandb\u001b[0m: \tbatch_size: 64\n",
            "\u001b[34m\u001b[1mwandb\u001b[0m: \tepochs: 10\n",
            "\u001b[34m\u001b[1mwandb\u001b[0m: \thidden_layer_size: 32\n",
            "\u001b[34m\u001b[1mwandb\u001b[0m: \tinit_type: random\n",
            "\u001b[34m\u001b[1mwandb\u001b[0m: \tlearning_rate: 0.0001\n",
            "\u001b[34m\u001b[1mwandb\u001b[0m: \tloss_type: cross_entropy\n",
            "\u001b[34m\u001b[1mwandb\u001b[0m: \tnum_hidden_layers: 5\n",
            "\u001b[34m\u001b[1mwandb\u001b[0m: \toptimizer_name: rmsprop\n",
            "\u001b[34m\u001b[1mwandb\u001b[0m: \tweight_decay: 0.5\n"
          ]
        },
        {
          "output_type": "display_data",
          "data": {
            "text/plain": [
              "<IPython.core.display.HTML object>"
            ],
            "text/html": [
              "Ignoring project 'assignment01-temp' when running a sweep."
            ]
          },
          "metadata": {}
        },
        {
          "output_type": "display_data",
          "data": {
            "text/plain": [
              "<IPython.core.display.HTML object>"
            ],
            "text/html": [
              "Tracking run with wandb version 0.19.8"
            ]
          },
          "metadata": {}
        },
        {
          "output_type": "display_data",
          "data": {
            "text/plain": [
              "<IPython.core.display.HTML object>"
            ],
            "text/html": [
              "Run data is saved locally in <code>/content/wandb/run-20250317_162026-w6jfdywh</code>"
            ]
          },
          "metadata": {}
        },
        {
          "output_type": "display_data",
          "data": {
            "text/plain": [
              "<IPython.core.display.HTML object>"
            ],
            "text/html": [
              "Syncing run <strong><a href='https://wandb.ai/omkarmande-iit-madras/assignment01-temp/runs/w6jfdywh' target=\"_blank\">celestial-sweep-4</a></strong> to <a href='https://wandb.ai/omkarmande-iit-madras/assignment01-temp' target=\"_blank\">Weights & Biases</a> (<a href='https://wandb.me/developer-guide' target=\"_blank\">docs</a>)<br>Sweep page: <a href='https://wandb.ai/omkarmande-iit-madras/assignment01-temp/sweeps/of6uaseh' target=\"_blank\">https://wandb.ai/omkarmande-iit-madras/assignment01-temp/sweeps/of6uaseh</a>"
            ]
          },
          "metadata": {}
        },
        {
          "output_type": "display_data",
          "data": {
            "text/plain": [
              "<IPython.core.display.HTML object>"
            ],
            "text/html": [
              " View project at <a href='https://wandb.ai/omkarmande-iit-madras/assignment01-temp' target=\"_blank\">https://wandb.ai/omkarmande-iit-madras/assignment01-temp</a>"
            ]
          },
          "metadata": {}
        },
        {
          "output_type": "display_data",
          "data": {
            "text/plain": [
              "<IPython.core.display.HTML object>"
            ],
            "text/html": [
              " View sweep at <a href='https://wandb.ai/omkarmande-iit-madras/assignment01-temp/sweeps/of6uaseh' target=\"_blank\">https://wandb.ai/omkarmande-iit-madras/assignment01-temp/sweeps/of6uaseh</a>"
            ]
          },
          "metadata": {}
        },
        {
          "output_type": "display_data",
          "data": {
            "text/plain": [
              "<IPython.core.display.HTML object>"
            ],
            "text/html": [
              " View run at <a href='https://wandb.ai/omkarmande-iit-madras/assignment01-temp/runs/w6jfdywh' target=\"_blank\">https://wandb.ai/omkarmande-iit-madras/assignment01-temp/runs/w6jfdywh</a>"
            ]
          },
          "metadata": {}
        },
        {
          "output_type": "stream",
          "name": "stdout",
          "text": [
            "Epoch 1: Train Loss=2.3026, Train Acc=9.9963, Val Loss=2.3028, Val Acc=10.0333\n",
            "Epoch 2: Train Loss=2.3026, Train Acc=9.9963, Val Loss=2.3028, Val Acc=10.0333\n",
            "Epoch 3: Train Loss=2.3026, Train Acc=9.9963, Val Loss=2.3028, Val Acc=10.0333\n",
            "Epoch 4: Train Loss=2.3026, Train Acc=9.9963, Val Loss=2.3028, Val Acc=10.0333\n",
            "Epoch 5: Train Loss=2.3026, Train Acc=9.9963, Val Loss=2.3028, Val Acc=10.0333\n",
            "Epoch 6: Train Loss=2.3026, Train Acc=9.9963, Val Loss=2.3028, Val Acc=10.0333\n",
            "Epoch 7: Train Loss=2.3026, Train Acc=9.9963, Val Loss=2.3028, Val Acc=10.0333\n",
            "Epoch 8: Train Loss=2.3026, Train Acc=9.9963, Val Loss=2.3028, Val Acc=10.0333\n",
            "Epoch 9: Train Loss=2.3026, Train Acc=9.9963, Val Loss=2.3028, Val Acc=10.0333\n",
            "Epoch 10: Train Loss=2.3026, Train Acc=9.9963, Val Loss=2.3028, Val Acc=10.0333\n"
          ]
        },
        {
          "output_type": "display_data",
          "data": {
            "text/plain": [
              "<IPython.core.display.HTML object>"
            ],
            "text/html": []
          },
          "metadata": {}
        },
        {
          "output_type": "display_data",
          "data": {
            "text/plain": [
              "<IPython.core.display.HTML object>"
            ],
            "text/html": [
              "<br>    <style><br>        .wandb-row {<br>            display: flex;<br>            flex-direction: row;<br>            flex-wrap: wrap;<br>            justify-content: flex-start;<br>            width: 100%;<br>        }<br>        .wandb-col {<br>            display: flex;<br>            flex-direction: column;<br>            flex-basis: 100%;<br>            flex: 1;<br>            padding: 10px;<br>        }<br>    </style><br><div class=\"wandb-row\"><div class=\"wandb-col\"><h3>Run history:</h3><br/><table class=\"wandb\"><tr><td>Epoch</td><td>▁▂▃▃▄▅▆▆▇█</td></tr><tr><td>Train Accuracy</td><td>▁▁▁▁▁▁▁▁▁▁</td></tr><tr><td>Train Loss</td><td>█▄▃▂▂▂▁▁▁▁</td></tr><tr><td>Validation Accuracy</td><td>▁▁▁▁▁▁▁▁▁▁</td></tr><tr><td>Validation Loss</td><td>█▂▁▁▁▂▃▃▄▄</td></tr></table><br/></div><div class=\"wandb-col\"><h3>Run summary:</h3><br/><table class=\"wandb\"><tr><td>Epoch</td><td>10</td></tr><tr><td>Train Accuracy</td><td>9.9963</td></tr><tr><td>Train Loss</td><td>2.3026</td></tr><tr><td>Validation Accuracy</td><td>10.03333</td></tr><tr><td>Validation Loss</td><td>2.3028</td></tr></table><br/></div></div>"
            ]
          },
          "metadata": {}
        },
        {
          "output_type": "display_data",
          "data": {
            "text/plain": [
              "<IPython.core.display.HTML object>"
            ],
            "text/html": [
              " View run <strong style=\"color:#cdcd00\">hl_5_bs_64_ReLU_rmsprop_lr_0.0001</strong> at: <a href='https://wandb.ai/omkarmande-iit-madras/assignment01-temp/runs/w6jfdywh' target=\"_blank\">https://wandb.ai/omkarmande-iit-madras/assignment01-temp/runs/w6jfdywh</a><br> View project at: <a href='https://wandb.ai/omkarmande-iit-madras/assignment01-temp' target=\"_blank\">https://wandb.ai/omkarmande-iit-madras/assignment01-temp</a><br>Synced 5 W&B file(s), 0 media file(s), 0 artifact file(s) and 0 other file(s)"
            ]
          },
          "metadata": {}
        },
        {
          "output_type": "display_data",
          "data": {
            "text/plain": [
              "<IPython.core.display.HTML object>"
            ],
            "text/html": [
              "Find logs at: <code>./wandb/run-20250317_162026-w6jfdywh/logs</code>"
            ]
          },
          "metadata": {}
        },
        {
          "output_type": "stream",
          "name": "stderr",
          "text": [
            "\u001b[34m\u001b[1mwandb\u001b[0m: Agent Starting Run: 6udeelgs with config:\n",
            "\u001b[34m\u001b[1mwandb\u001b[0m: \tactivation_type: ReLU\n",
            "\u001b[34m\u001b[1mwandb\u001b[0m: \tbatch_size: 64\n",
            "\u001b[34m\u001b[1mwandb\u001b[0m: \tepochs: 10\n",
            "\u001b[34m\u001b[1mwandb\u001b[0m: \thidden_layer_size: 32\n",
            "\u001b[34m\u001b[1mwandb\u001b[0m: \tinit_type: random\n",
            "\u001b[34m\u001b[1mwandb\u001b[0m: \tlearning_rate: 0.0001\n",
            "\u001b[34m\u001b[1mwandb\u001b[0m: \tloss_type: cross_entropy\n",
            "\u001b[34m\u001b[1mwandb\u001b[0m: \tnum_hidden_layers: 5\n",
            "\u001b[34m\u001b[1mwandb\u001b[0m: \toptimizer_name: adam\n",
            "\u001b[34m\u001b[1mwandb\u001b[0m: \tweight_decay: 0.0005\n"
          ]
        },
        {
          "output_type": "display_data",
          "data": {
            "text/plain": [
              "<IPython.core.display.HTML object>"
            ],
            "text/html": [
              "Ignoring project 'assignment01-temp' when running a sweep."
            ]
          },
          "metadata": {}
        },
        {
          "output_type": "display_data",
          "data": {
            "text/plain": [
              "<IPython.core.display.HTML object>"
            ],
            "text/html": [
              "Tracking run with wandb version 0.19.8"
            ]
          },
          "metadata": {}
        },
        {
          "output_type": "display_data",
          "data": {
            "text/plain": [
              "<IPython.core.display.HTML object>"
            ],
            "text/html": [
              "Run data is saved locally in <code>/content/wandb/run-20250317_162122-6udeelgs</code>"
            ]
          },
          "metadata": {}
        },
        {
          "output_type": "display_data",
          "data": {
            "text/plain": [
              "<IPython.core.display.HTML object>"
            ],
            "text/html": [
              "Syncing run <strong><a href='https://wandb.ai/omkarmande-iit-madras/assignment01-temp/runs/6udeelgs' target=\"_blank\">wobbly-sweep-5</a></strong> to <a href='https://wandb.ai/omkarmande-iit-madras/assignment01-temp' target=\"_blank\">Weights & Biases</a> (<a href='https://wandb.me/developer-guide' target=\"_blank\">docs</a>)<br>Sweep page: <a href='https://wandb.ai/omkarmande-iit-madras/assignment01-temp/sweeps/of6uaseh' target=\"_blank\">https://wandb.ai/omkarmande-iit-madras/assignment01-temp/sweeps/of6uaseh</a>"
            ]
          },
          "metadata": {}
        },
        {
          "output_type": "display_data",
          "data": {
            "text/plain": [
              "<IPython.core.display.HTML object>"
            ],
            "text/html": [
              " View project at <a href='https://wandb.ai/omkarmande-iit-madras/assignment01-temp' target=\"_blank\">https://wandb.ai/omkarmande-iit-madras/assignment01-temp</a>"
            ]
          },
          "metadata": {}
        },
        {
          "output_type": "display_data",
          "data": {
            "text/plain": [
              "<IPython.core.display.HTML object>"
            ],
            "text/html": [
              " View sweep at <a href='https://wandb.ai/omkarmande-iit-madras/assignment01-temp/sweeps/of6uaseh' target=\"_blank\">https://wandb.ai/omkarmande-iit-madras/assignment01-temp/sweeps/of6uaseh</a>"
            ]
          },
          "metadata": {}
        },
        {
          "output_type": "display_data",
          "data": {
            "text/plain": [
              "<IPython.core.display.HTML object>"
            ],
            "text/html": [
              " View run at <a href='https://wandb.ai/omkarmande-iit-madras/assignment01-temp/runs/6udeelgs' target=\"_blank\">https://wandb.ai/omkarmande-iit-madras/assignment01-temp/runs/6udeelgs</a>"
            ]
          },
          "metadata": {}
        },
        {
          "output_type": "stream",
          "name": "stdout",
          "text": [
            "Epoch 1: Train Loss=2.3026, Train Acc=9.9963, Val Loss=2.3027, Val Acc=10.0333\n",
            "Epoch 2: Train Loss=2.3026, Train Acc=9.9963, Val Loss=2.3027, Val Acc=10.0333\n",
            "Epoch 3: Train Loss=2.3026, Train Acc=9.9963, Val Loss=2.3027, Val Acc=10.0333\n",
            "Epoch 4: Train Loss=2.3026, Train Acc=9.9963, Val Loss=2.3027, Val Acc=10.0333\n",
            "Epoch 5: Train Loss=2.3026, Train Acc=9.9963, Val Loss=2.3027, Val Acc=10.0333\n",
            "Epoch 6: Train Loss=2.3026, Train Acc=9.9963, Val Loss=2.3027, Val Acc=10.0333\n",
            "Epoch 7: Train Loss=2.3026, Train Acc=9.9963, Val Loss=2.3027, Val Acc=10.0333\n",
            "Epoch 8: Train Loss=2.3026, Train Acc=9.9963, Val Loss=2.3027, Val Acc=10.0333\n",
            "Epoch 9: Train Loss=2.3026, Train Acc=9.9963, Val Loss=2.3027, Val Acc=10.0333\n",
            "Epoch 10: Train Loss=2.3026, Train Acc=9.9963, Val Loss=2.3027, Val Acc=10.0333\n"
          ]
        },
        {
          "output_type": "display_data",
          "data": {
            "text/plain": [
              "<IPython.core.display.HTML object>"
            ],
            "text/html": []
          },
          "metadata": {}
        },
        {
          "output_type": "display_data",
          "data": {
            "text/plain": [
              "<IPython.core.display.HTML object>"
            ],
            "text/html": [
              "<br>    <style><br>        .wandb-row {<br>            display: flex;<br>            flex-direction: row;<br>            flex-wrap: wrap;<br>            justify-content: flex-start;<br>            width: 100%;<br>        }<br>        .wandb-col {<br>            display: flex;<br>            flex-direction: column;<br>            flex-basis: 100%;<br>            flex: 1;<br>            padding: 10px;<br>        }<br>    </style><br><div class=\"wandb-row\"><div class=\"wandb-col\"><h3>Run history:</h3><br/><table class=\"wandb\"><tr><td>Epoch</td><td>▁▂▃▃▄▅▆▆▇█</td></tr><tr><td>Train Accuracy</td><td>▁▁▁▁▁▁▁▁▁▁</td></tr><tr><td>Train Loss</td><td>▁█▇▆▅▅▅▄▄▄</td></tr><tr><td>Validation Accuracy</td><td>▁▁▁▁▁▁▁▁▁▁</td></tr><tr><td>Validation Loss</td><td>▁███▇▇▇▇▇▇</td></tr></table><br/></div><div class=\"wandb-col\"><h3>Run summary:</h3><br/><table class=\"wandb\"><tr><td>Epoch</td><td>10</td></tr><tr><td>Train Accuracy</td><td>9.9963</td></tr><tr><td>Train Loss</td><td>2.30263</td></tr><tr><td>Validation Accuracy</td><td>10.03333</td></tr><tr><td>Validation Loss</td><td>2.30273</td></tr></table><br/></div></div>"
            ]
          },
          "metadata": {}
        },
        {
          "output_type": "display_data",
          "data": {
            "text/plain": [
              "<IPython.core.display.HTML object>"
            ],
            "text/html": [
              " View run <strong style=\"color:#cdcd00\">hl_5_bs_64_ReLU_adam_lr_0.0001</strong> at: <a href='https://wandb.ai/omkarmande-iit-madras/assignment01-temp/runs/6udeelgs' target=\"_blank\">https://wandb.ai/omkarmande-iit-madras/assignment01-temp/runs/6udeelgs</a><br> View project at: <a href='https://wandb.ai/omkarmande-iit-madras/assignment01-temp' target=\"_blank\">https://wandb.ai/omkarmande-iit-madras/assignment01-temp</a><br>Synced 5 W&B file(s), 0 media file(s), 0 artifact file(s) and 0 other file(s)"
            ]
          },
          "metadata": {}
        },
        {
          "output_type": "display_data",
          "data": {
            "text/plain": [
              "<IPython.core.display.HTML object>"
            ],
            "text/html": [
              "Find logs at: <code>./wandb/run-20250317_162122-6udeelgs/logs</code>"
            ]
          },
          "metadata": {}
        }
      ]
    },
    {
      "cell_type": "code",
      "source": [
        "#best configuration\n",
        "sweep_configuration = {\n",
        "    'method': \"bayes\",\n",
        "    'metric': {'name': 'Validation Accuracy', 'goal': 'maximize'},\n",
        "    'parameters': {\n",
        "        'epochs': {'values': [10]},\n",
        "        'num_hidden_layers': {'values': [4]},\n",
        "        'hidden_layer_size': {'values': [128]},\n",
        "        'learning_rate': {'values': [1e-4]},\n",
        "        'weight_decay': {'values': [0]},\n",
        "        'optimizer_name': {'values': ['adam']},\n",
        "        'batch_size': {'values': [32]},\n",
        "        'init_type': {'values': ['xavier']},\n",
        "        'activation_type': {'values': ['tanh']},\n",
        "        'loss_type': {'values': ['cross_entropy']}\n",
        "    }\n",
        "}\n",
        "\n",
        "sweep_id = wandb.sweep(sweep_configuration, project=\"assignment01-temp\")"
      ],
      "metadata": {
        "id": "JKCTPj-16rwO"
      },
      "execution_count": null,
      "outputs": []
    },
    {
      "cell_type": "code",
      "source": [
        "def train_sweep():\n",
        "    wandb.init(project=\"assignment01-temp\",config=sweep_configuration)\n",
        "    run_name = f\"hl_{wandb.config.num_hidden_layers}_bs_{wandb.config.batch_size}_{wandb.config.activation_type}_{wandb.config.optimizer_name}_lr_{wandb.config.learning_rate}\"\n",
        "    wandb.run.name = run_name\n",
        "\n",
        "    config = wandb.config\n",
        "\n",
        "    model = Model(\n",
        "        il_neuron=784, hl_neuron=config.hidden_layer_size, hl_count=config.num_hidden_layers, ol_neuron=10,\n",
        "        opt=config.optimizer_name, lr=config.learning_rate, batch=config.batch_size,\n",
        "        init=config.init_type, act=config.activation_type, loss=config.loss_type, decay=config.weight_decay\n",
        "    )\n",
        "\n",
        "    model.train(config.epochs)\n",
        "\n",
        "# Run the sweep\n",
        "wandb.agent(sweep_id, train_sweep, count=1)"
      ],
      "metadata": {
        "id": "3hMdBYmTKGfS"
      },
      "execution_count": null,
      "outputs": []
    }
  ]
}